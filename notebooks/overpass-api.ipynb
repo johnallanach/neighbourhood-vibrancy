{
 "cells": [
  {
   "cell_type": "markdown",
   "metadata": {},
   "source": [
    "RESOURCES:                                                                  \\\n",
    "https://python-overpy.readthedocs.io/en/latest/index.html                   \\\n",
    "https://wiki.openstreetmap.org/wiki/Main_Page                               \\\n",
    "https://wiki.openstreetmap.org/wiki/Overpass_API/Overpass_API_by_Example    \\\n",
    "https://www.openstreetmap.org/relation/7486148                              \\\n",
    "https://overpass-turbo.eu/    "
   ]
  },
  {
   "cell_type": "code",
   "execution_count": 22,
   "metadata": {
    "collapsed": true
   },
   "outputs": [],
   "source": [
    "import overpy\n",
    "import pandas as pd"
   ]
  },
  {
   "cell_type": "code",
   "execution_count": 23,
   "metadata": {},
   "outputs": [],
   "source": [
    "api = overpy.Overpass()"
   ]
  },
  {
   "cell_type": "code",
   "execution_count": 24,
   "metadata": {
    "collapsed": true
   },
   "outputs": [],
   "source": [
    "# Declare tags of interest\n",
    "supermarket_tag = \"'shop'='supermarket'\"\n",
    "convenience_tag = \"'shop'='convenience'\"\n",
    "variety_store_tag = \"'shop'='variety_store'\"\n",
    "general_store_tag = \"'shop'='general'\"\n",
    "library_tag = \"'amenity'='library'\"\n",
    "cafe_tag = \"'amenity'='cafe'\"\n",
    "pub_tag = \"'amenity'='pub'\"\n",
    "bar_tag = \"'amenity'='bar'\"\n",
    "fast_food_tag = \"'amenity'='fast_food'\"\n",
    "place_of_worship_tag = \"'amenity'='place_of_worship'\"\n",
    "marketplace_tag = \"'amenity'='marketplace'\"  #e.g., farmer's market\n",
    "bank_tag = \"'amenity'='bank'\"\n",
    "pharmacy_tag = \"'amenity'='pharmacy'\"\n",
    "ice_cream_tag = \"'amenity'='ice_cream'\""
   ]
  },
  {
   "cell_type": "code",
   "execution_count": 25,
   "metadata": {},
   "outputs": [],
   "source": [
    "# Construct area ID\n",
    "relation_id = 7486148  #Guelph\n",
    "OSM_base = 3600000000\n",
    "area_id = str(OSM_base + relation_id)"
   ]
  },
  {
   "cell_type": "code",
   "execution_count": 26,
   "metadata": {},
   "outputs": [],
   "source": [
    "# Run query \n",
    "key = 'amenity'\n",
    "value = 'cafe'\n",
    "tag = key +'='+ value"
   ]
  },
  {
   "cell_type": "code",
   "execution_count": 27,
   "metadata": {
    "collapsed": true
   },
   "outputs": [],
   "source": [
    "# A query function to get the Overpass API data\n",
    "def osm_query(area_id,tag,element_type):\n",
    "\n",
    "    result = api.query(\"\"\"\n",
    "        [out:json];\n",
    "        area(\"\"\"+area_id+\"\"\");\n",
    "        (\"\"\"+element_type+\"\"\"[\"\"\"+tag+\"\"\"](area);\n",
    "        );\n",
    "        out center;\n",
    "        \"\"\")\n",
    "\n",
    "    if element_type == \"node\":\n",
    "        print(\"Nodes:\", len(result.nodes))\n",
    "    elif element_type == \"way\":\n",
    "        print(\"Ways:\", len(result.ways))\n",
    "    elif element_type == \"relation\":\n",
    "        print(\"Relations:\", len(result.relations))\n",
    "\n",
    "    return result"
   ]
  },
  {
   "cell_type": "code",
   "execution_count": 28,
   "metadata": {
    "collapsed": true
   },
   "outputs": [
    {
     "name": "stdout",
     "output_type": "stream",
     "text": [
      "RESULTS:\n",
      "Nodes: 51\n",
      "Ways: 8\n",
      "Relations: 0\n"
     ]
    }
   ],
   "source": [
    "# Run queries and collate results \n",
    "data_dict = []\n",
    "\n",
    "print(\"RESULTS:\")\n",
    "\n",
    "for element_type in (\"node\", \"way\", \"relation\"):\n",
    "    query_result = osm_query(area_id, tag, element_type)\n",
    "\n",
    "    if element_type == \"node\":\n",
    "        for element in query_result.nodes:\n",
    "            data_dict.append({\n",
    "                        'ID': element.id,\n",
    "                        'Name': element.tags.get(\"name\", \"\"), \n",
    "                        'Value': element.tags.get(key, \"\"), \n",
    "                        'Latitude': element.lat,\n",
    "                        'Longitude': element.lon\n",
    "                    })\n",
    "\n",
    "    elif element_type == \"way\":\n",
    "        for element in query_result.ways:\n",
    "            data_dict.append({\n",
    "                        'ID': element.id,\n",
    "                        'Name': element.tags.get(\"name\", \"\"), \n",
    "                        'Value': element.tags.get(key, \"\"), \n",
    "                        'Latitude': element.center_lat,\n",
    "                        'Longitude': element.center_lon\n",
    "                    })\n",
    "\n",
    "    elif element_type == \"relation\":\n",
    "        for element in query_result.relations:\n",
    "            data_dict.append({\n",
    "                        'ID': element.id,\n",
    "                        'Name': element.tags.get(\"name\", \"\"), \n",
    "                        'Value': element.tags.get(key, \"\"), \n",
    "                        'Latitude': element.center_lat,\n",
    "                        'Longitude': element.center_lon\n",
    "                    })\n",
    "\n",
    "result_db = pd.DataFrame(data_dict)"
   ]
  },
  {
   "cell_type": "code",
   "execution_count": 29,
   "metadata": {},
   "outputs": [
    {
     "data": {
      "text/html": [
       "<div>\n",
       "<style scoped>\n",
       "    .dataframe tbody tr th:only-of-type {\n",
       "        vertical-align: middle;\n",
       "    }\n",
       "\n",
       "    .dataframe tbody tr th {\n",
       "        vertical-align: top;\n",
       "    }\n",
       "\n",
       "    .dataframe thead th {\n",
       "        text-align: right;\n",
       "    }\n",
       "</style>\n",
       "<table border=\"1\" class=\"dataframe\">\n",
       "  <thead>\n",
       "    <tr style=\"text-align: right;\">\n",
       "      <th></th>\n",
       "      <th>ID</th>\n",
       "      <th>Name</th>\n",
       "      <th>Value</th>\n",
       "      <th>Latitude</th>\n",
       "      <th>Longitude</th>\n",
       "    </tr>\n",
       "  </thead>\n",
       "  <tbody>\n",
       "    <tr>\n",
       "      <th>0</th>\n",
       "      <td>825311398</td>\n",
       "      <td>Tim Hortons</td>\n",
       "      <td>cafe</td>\n",
       "      <td>43.5417689</td>\n",
       "      <td>-80.2445805</td>\n",
       "    </tr>\n",
       "    <tr>\n",
       "      <th>1</th>\n",
       "      <td>825311413</td>\n",
       "      <td>Atmosphere Cafe</td>\n",
       "      <td>cafe</td>\n",
       "      <td>43.5439483</td>\n",
       "      <td>-80.2488932</td>\n",
       "    </tr>\n",
       "    <tr>\n",
       "      <th>2</th>\n",
       "      <td>1357922183</td>\n",
       "      <td>Planet Bean Coffee</td>\n",
       "      <td>cafe</td>\n",
       "      <td>43.5323034</td>\n",
       "      <td>-80.2330668</td>\n",
       "    </tr>\n",
       "    <tr>\n",
       "      <th>3</th>\n",
       "      <td>1395246593</td>\n",
       "      <td>Red Brick Cafe</td>\n",
       "      <td>cafe</td>\n",
       "      <td>43.5465908</td>\n",
       "      <td>-80.2490199</td>\n",
       "    </tr>\n",
       "    <tr>\n",
       "      <th>4</th>\n",
       "      <td>1732487985</td>\n",
       "      <td>Williams Fresh Cafe</td>\n",
       "      <td>cafe</td>\n",
       "      <td>43.5218405</td>\n",
       "      <td>-80.2347807</td>\n",
       "    </tr>\n",
       "    <tr>\n",
       "      <th>5</th>\n",
       "      <td>1783614478</td>\n",
       "      <td>Tim Hortons</td>\n",
       "      <td>cafe</td>\n",
       "      <td>43.5776808</td>\n",
       "      <td>-80.2604727</td>\n",
       "    </tr>\n",
       "    <tr>\n",
       "      <th>6</th>\n",
       "      <td>2266364283</td>\n",
       "      <td>Planet Bean</td>\n",
       "      <td>cafe</td>\n",
       "      <td>43.5103628</td>\n",
       "      <td>-80.1965153</td>\n",
       "    </tr>\n",
       "    <tr>\n",
       "      <th>7</th>\n",
       "      <td>2425945218</td>\n",
       "      <td>Tim Hortons</td>\n",
       "      <td>cafe</td>\n",
       "      <td>43.5449260</td>\n",
       "      <td>-80.3061473</td>\n",
       "    </tr>\n",
       "    <tr>\n",
       "      <th>8</th>\n",
       "      <td>3347131750</td>\n",
       "      <td>Tim Hortons</td>\n",
       "      <td>cafe</td>\n",
       "      <td>43.5440623</td>\n",
       "      <td>-80.3076850</td>\n",
       "    </tr>\n",
       "    <tr>\n",
       "      <th>9</th>\n",
       "      <td>3631895695</td>\n",
       "      <td>Planet Bean Coffee</td>\n",
       "      <td>cafe</td>\n",
       "      <td>43.5580243</td>\n",
       "      <td>-80.2296869</td>\n",
       "    </tr>\n",
       "  </tbody>\n",
       "</table>\n",
       "</div>"
      ],
      "text/plain": [
       "           ID                 Name Value    Latitude    Longitude\n",
       "0   825311398          Tim Hortons  cafe  43.5417689  -80.2445805\n",
       "1   825311413      Atmosphere Cafe  cafe  43.5439483  -80.2488932\n",
       "2  1357922183   Planet Bean Coffee  cafe  43.5323034  -80.2330668\n",
       "3  1395246593       Red Brick Cafe  cafe  43.5465908  -80.2490199\n",
       "4  1732487985  Williams Fresh Cafe  cafe  43.5218405  -80.2347807\n",
       "5  1783614478          Tim Hortons  cafe  43.5776808  -80.2604727\n",
       "6  2266364283          Planet Bean  cafe  43.5103628  -80.1965153\n",
       "7  2425945218          Tim Hortons  cafe  43.5449260  -80.3061473\n",
       "8  3347131750          Tim Hortons  cafe  43.5440623  -80.3076850\n",
       "9  3631895695   Planet Bean Coffee  cafe  43.5580243  -80.2296869"
      ]
     },
     "execution_count": 29,
     "metadata": {},
     "output_type": "execute_result"
    }
   ],
   "source": [
    "# Examine results \n",
    "result_db.head(10)"
   ]
  },
  {
   "cell_type": "code",
   "execution_count": 30,
   "metadata": {},
   "outputs": [],
   "source": [
    "# Output to csv\n",
    "result_db.to_csv('result_db.csv',index=False)"
   ]
  }
 ],
 "metadata": {
  "kernelspec": {
   "display_name": "Python 3.10.0 ('geo_env')",
   "language": "python",
   "name": "python3"
  },
  "language_info": {
   "codemirror_mode": {
    "name": "ipython",
    "version": 3
   },
   "file_extension": ".py",
   "mimetype": "text/x-python",
   "name": "python",
   "nbconvert_exporter": "python",
   "pygments_lexer": "ipython3",
   "version": "3.10.0"
  },
  "vscode": {
   "interpreter": {
    "hash": "6d58143b764cec7d6025735a0d3b54b6612ccb2f946dc3b4e2e97e0d05afd64a"
   }
  }
 },
 "nbformat": 4,
 "nbformat_minor": 2
}
