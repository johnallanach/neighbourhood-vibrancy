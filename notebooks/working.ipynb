{
 "cells": [
  {
   "attachments": {},
   "cell_type": "markdown",
   "metadata": {},
   "source": [
    "General workflow:\n",
    "\n",
    "- Define area of interest (AOI)\n",
    "- Fetch points of interest (POIs) for defined AOI\n",
    "- Calculate travel time to 10 nearest pois from each node in network\n",
    "- From travel times, organize data into \"meshgrid\"\n",
    "- Plot meshgrid data with folium"
   ]
  },
  {
   "cell_type": "code",
   "execution_count": null,
   "metadata": {},
   "outputs": [],
   "source": [
    "import osmnx as ox"
   ]
  },
  {
   "cell_type": "code",
   "execution_count": null,
   "metadata": {},
   "outputs": [],
   "source": [
    "#define place to analyze\n",
    "place = \"Guelph, Ontario, Canada\""
   ]
  },
  {
   "cell_type": "code",
   "execution_count": null,
   "metadata": {},
   "outputs": [],
   "source": [
    "# Declare points of interest based on osm tags\n",
    "\"\"\"\n",
    "tags = {\n",
    "    'amenity':[\n",
    "        'cafe',\n",
    "        'bar',\n",
    "        'pub',\n",
    "        'restaurant',\n",
    "        'library',\n",
    "        'marketplace',\n",
    "        'place_of_worship',\n",
    "        'ice_cream',\n",
    "    ],\n",
    "    'shop':[\n",
    "        'bakery',\n",
    "        'convenience',\n",
    "        'supermarket',\n",
    "        'variety_store',\n",
    "        'general'\n",
    "    ],\n",
    "    'leisure':[\n",
    "        'fitness_centre', \n",
    "        'park'\n",
    "    ]\n",
    "}\n",
    "\"\"\"\n",
    "\n",
    "tags = {\n",
    "    'amenity':[\n",
    "        'cafe'\n",
    "    ]\n",
    "}\n",
    "\n",
    "# `True` means retrieve any object with this tag, regardless of value\n",
    "#tags = {\"amenity\": True}\n",
    "#tags = {\"building\": True}"
   ]
  },
  {
   "cell_type": "code",
   "execution_count": null,
   "metadata": {},
   "outputs": [],
   "source": [
    "gdf = ox.geometries_from_place(place, tags)\n",
    "gdf.shape"
   ]
  },
  {
   "cell_type": "code",
   "execution_count": null,
   "metadata": {},
   "outputs": [],
   "source": [
    "# Keep only the \"geometry\" column\n",
    "gdf_simple = gdf[[\"geometry\"]]\n",
    "gdf_simple = gdf_simple.reset_index()\n",
    "gdf_simple.sample(5)"
   ]
  }
 ],
 "metadata": {
  "kernelspec": {
   "display_name": "geo",
   "language": "python",
   "name": "python3"
  },
  "language_info": {
   "name": "python",
   "version": "3.9.15 | packaged by conda-forge | (main, Nov 22 2022, 08:41:22) [MSC v.1929 64 bit (AMD64)]"
  },
  "orig_nbformat": 4,
  "vscode": {
   "interpreter": {
    "hash": "e6951770d280f3541654a6a09de8cece224bf81f98ddfdbadb0351c337e35836"
   }
  }
 },
 "nbformat": 4,
 "nbformat_minor": 2
}
